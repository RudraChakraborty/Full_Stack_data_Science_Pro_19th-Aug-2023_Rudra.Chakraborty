{
 "cells": [
  {
   "cell_type": "markdown",
   "id": "d7f02bca",
   "metadata": {},
   "source": [
    "# TOPIC:Python Basics Variable"
   ]
  },
  {
   "cell_type": "markdown",
   "id": "9d5d1db5",
   "metadata": {},
   "source": [
    "1. Declare two variables, `x` and `y`, and assign them integer values. Swap the\n",
    "values of these variables without using any temporary variable."
   ]
  },
  {
   "cell_type": "code",
   "execution_count": 6,
   "id": "de4dd314",
   "metadata": {},
   "outputs": [
    {
     "name": "stdout",
     "output_type": "stream",
     "text": [
      "After swapping:\n",
      "x = 50\n",
      "y = 25\n"
     ]
    }
   ],
   "source": [
    "x = 25\n",
    "y = 50\n",
    "\n",
    "x = x + y\n",
    "y = x - y\n",
    "x = x - y\n",
    "\n",
    "print(\"After swapping:\")\n",
    "print(\"x =\", x)\n",
    "print(\"y =\", y)"
   ]
  },
  {
   "cell_type": "markdown",
   "id": "ac8400e8",
   "metadata": {},
   "source": [
    "2. Create a program that calculates the area of a rectangle. Take the length and\n",
    "width as inputs from the user and store them in variables. Calculate and\n",
    "display the area."
   ]
  },
  {
   "cell_type": "code",
   "execution_count": 29,
   "id": "685bfcae",
   "metadata": {},
   "outputs": [
    {
     "name": "stdout",
     "output_type": "stream",
     "text": [
      "Enter length of a rectangle: 84\n",
      "Enter width of of a rectangle: 64\n",
      "The area of a rectangle: 5376.0\n"
     ]
    }
   ],
   "source": [
    "length=float(input(\"Enter length of a rectangle: \"))\n",
    "width=float(input(\"Enter width of of a rectangle: \"))\n",
    "area= width*length\n",
    "print(\"The area of a rectangle:\",area)"
   ]
  },
  {
   "cell_type": "markdown",
   "id": "42807302",
   "metadata": {},
   "source": [
    "3. Write a Python program that converts temperatures from Celsius to\n",
    "Fahrenheit. Take the temperature in Celsius as input, store it in a variable,\n",
    "convert it to Fahrenheit, and display the result."
   ]
  },
  {
   "cell_type": "code",
   "execution_count": 8,
   "id": "38a9cdec",
   "metadata": {},
   "outputs": [
    {
     "name": "stdout",
     "output_type": "stream",
     "text": [
      "Enter the temperature in Celsius: 32\n",
      "Temperature in Fahrenheit :  89.6\n"
     ]
    }
   ],
   "source": [
    "celsius=float(input(\"Enter the temperature in Celsius: \"))\n",
    "fahrenheit=(celsius*9/5)+32\n",
    "print(\"Temperature in Fahrenheit : \", fahrenheit)"
   ]
  },
  {
   "cell_type": "markdown",
   "id": "fe5cbffa",
   "metadata": {},
   "source": [
    "# TOPIC: String Based Questions"
   ]
  },
  {
   "cell_type": "markdown",
   "id": "a481c9dc",
   "metadata": {},
   "source": [
    "1. Write a Python program that takes a string as input and prints the length of\n",
    "the string."
   ]
  },
  {
   "cell_type": "code",
   "execution_count": 1,
   "id": "fb950dcf",
   "metadata": {},
   "outputs": [
    {
     "name": "stdout",
     "output_type": "stream",
     "text": [
      "Enter the string:pwskill\n",
      "The length of the string: 7\n"
     ]
    }
   ],
   "source": [
    "string=str(input(\"Enter the string:\"))\n",
    "length=len(string)\n",
    "print(\"The length of the string:\", length)"
   ]
  },
  {
   "cell_type": "markdown",
   "id": "b2abdbb5",
   "metadata": {},
   "source": [
    "2. Create a program that takes a sentence from the user and counts the number\n",
    "of vowels (a, e, i, o, u) in the string."
   ]
  },
  {
   "cell_type": "code",
   "execution_count": 27,
   "id": "770bfca3",
   "metadata": {},
   "outputs": [
    {
     "name": "stdout",
     "output_type": "stream",
     "text": [
      "Enter the sentence:Audio\n",
      "count of a/A is: 0 1\n",
      "count of e/E is: 0 0\n",
      "count of i/I is: 1 0\n",
      "count of o/O is: 1 0\n",
      "count of u/U is: 1 0\n",
      "Total number of vowels: 4\n"
     ]
    }
   ],
   "source": [
    "sentence=input(\"Enter the sentence:\")\n",
    "vowels= \"aeiouAEIOU\"\n",
    "vowel_count=0\n",
    "for char in sentence:\n",
    "    if char in vowels:\n",
    "        vowel_count += 1\n",
    "print(\"count of a/A is:\",sentence.count(\"a\"), sentence.count(\"A\"))\n",
    "print(\"count of e/E is:\",sentence.count(\"e\"), sentence.count(\"E\"))\n",
    "print(\"count of i/I is:\",sentence.count(\"i\"), sentence.count(\"I\"))\n",
    "print(\"count of o/O is:\",sentence.count(\"o\"), sentence.count(\"O\"))\n",
    "print(\"count of u/U is:\",sentence.count(\"u\"), sentence.count(\"U\"))\n",
    "print(\"Total number of vowels:\", vowel_count)"
   ]
  },
  {
   "cell_type": "markdown",
   "id": "cd592b61",
   "metadata": {},
   "source": [
    "3. Given a string, reverse the order of characters using string slicing and print\n",
    "the reversed string."
   ]
  },
  {
   "cell_type": "code",
   "execution_count": 28,
   "id": "eae1760e",
   "metadata": {},
   "outputs": [
    {
     "name": "stdout",
     "output_type": "stream",
     "text": [
      "Reversed string: !dlroW olleH\n"
     ]
    }
   ],
   "source": [
    "string=\"Hello World!\"\n",
    "print(\"Reversed string:\",string[::-1])"
   ]
  },
  {
   "cell_type": "markdown",
   "id": "9933733f",
   "metadata": {},
   "source": [
    "4. Write a program that takes a string as input and checks if it is a palindrome\n",
    "(reads the same forwards and backwards)."
   ]
  },
  {
   "cell_type": "code",
   "execution_count": 4,
   "id": "cf7eb6d6",
   "metadata": {
    "scrolled": true
   },
   "outputs": [
    {
     "name": "stdout",
     "output_type": "stream",
     "text": [
      "Enter your string: pwskillikswp\n",
      "pwskillikswp is a palindrom\n"
     ]
    }
   ],
   "source": [
    "def a_palindrom(s):\n",
    "    return s==s[::-1]\n",
    "str=input(\"Enter your string: \")\n",
    "if a_palindrom(str):\n",
    "    print(str,\"is a palindrom\")\n",
    "else:\n",
    "    print(str, \" is not a palindrom\")"
   ]
  },
  {
   "cell_type": "markdown",
   "id": "45901230",
   "metadata": {},
   "source": [
    "5. Create a program that takes a string as input and removes all the spaces from\n",
    "it. Print the modified string without spaces."
   ]
  },
  {
   "cell_type": "code",
   "execution_count": 3,
   "id": "7c881176",
   "metadata": {},
   "outputs": [
    {
     "name": "stdout",
     "output_type": "stream",
     "text": [
      "Enter your string: Hello World\n",
      "Modified string without spaces: HelloWorld\n"
     ]
    }
   ],
   "source": [
    "str=input(\"Enter your string: \")\n",
    "print(\"Modified string without spaces:\",str.replace(\" \",\"\"))"
   ]
  }
 ],
 "metadata": {
  "kernelspec": {
   "display_name": "Python 3 (ipykernel)",
   "language": "python",
   "name": "python3"
  },
  "language_info": {
   "codemirror_mode": {
    "name": "ipython",
    "version": 3
   },
   "file_extension": ".py",
   "mimetype": "text/x-python",
   "name": "python",
   "nbconvert_exporter": "python",
   "pygments_lexer": "ipython3",
   "version": "3.10.9"
  }
 },
 "nbformat": 4,
 "nbformat_minor": 5
}
